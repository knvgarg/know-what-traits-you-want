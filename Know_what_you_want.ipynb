{
  "nbformat": 4,
  "nbformat_minor": 0,
  "metadata": {
    "colab": {
      "name": "Know what you want.ipynb",
      "provenance": [],
      "collapsed_sections": []
    },
    "kernelspec": {
      "name": "python3",
      "display_name": "Python 3"
    },
    "language_info": {
      "name": "python"
    }
  },
  "cells": [
    {
      "cell_type": "code",
      "metadata": {
        "id": "1MtyKrdBlRWv"
      },
      "source": [
        "import pandas as pd\n",
        "from bs4 import BeautifulSoup as soup\n",
        "from urllib.request import urlopen\n",
        "import numpy as np\n",
        "import math"
      ],
      "execution_count": null,
      "outputs": []
    },
    {
      "cell_type": "code",
      "metadata": {
        "id": "C6l2qs55lj2c"
      },
      "source": [
        "links = ['https://openpsychometrics.org/tests/characters/stats/FF/1/','https://openpsychometrics.org/tests/characters/stats/SL/1/','https://openpsychometrics.org/tests/characters/stats/MCU/1/','https://openpsychometrics.org/tests/characters/stats/B99/1/','https://openpsychometrics.org/tests/characters/stats/PC/1/','https://openpsychometrics.org/tests/characters/stats/GOT/5/','https://openpsychometrics.org/tests/characters/stats/GOT/2/','https://openpsychometrics.org/tests/characters/stats/F/5/','https://openpsychometrics.org/tests/characters/stats/VD/2/','https://openpsychometrics.org/tests/characters/stats/FF/2/']"
      ],
      "execution_count": null,
      "outputs": []
    },
    {
      "cell_type": "code",
      "metadata": {
        "id": "HNKGVWYnpBMH"
      },
      "source": [
        "col_headers = []\n",
        "data = urlopen(links[0])\n",
        "data_html = data.read()\n",
        "data.close()\n",
        "data_soup = soup(data_html, 'html.parser')\n",
        "headers = data_soup.findAll('th')\n",
        "col_headers = [ch.text for ch in headers]\n",
        "rows_data = data_soup.findAll('tr')"
      ],
      "execution_count": null,
      "outputs": []
    },
    {
      "cell_type": "code",
      "metadata": {
        "id": "YyuUSz1BpXFJ"
      },
      "source": [
        "col_headers = col_headers[:2]\n",
        "col_headers = ['Trait', 'rating']"
      ],
      "execution_count": null,
      "outputs": []
    },
    {
      "cell_type": "code",
      "metadata": {
        "id": "ngGkOSTXlu1c"
      },
      "source": [
        "table_rows = []\n",
        "for link in links:\n",
        " data = urlopen(link)\n",
        " data_html = data.read()\n",
        " data.close()\n",
        " data_soup = soup(data_html, 'html.parser')\n",
        " rows_data = data_soup.findAll('tr')\n",
        " for row in rows_data:\n",
        "  current_row = []\n",
        "  row_data = row.findAll('td')\n",
        "  for data in row_data:\n",
        "   current_row.append(data.text)\n",
        "  table_rows.append(current_row[:2])\n",
        "  "
      ],
      "execution_count": null,
      "outputs": []
    },
    {
      "cell_type": "code",
      "metadata": {
        "id": "cJYaZqfSjxXO"
      },
      "source": [
        "df = pd.DataFrame(table_rows, columns=col_headers)"
      ],
      "execution_count": null,
      "outputs": []
    },
    {
      "cell_type": "code",
      "metadata": {
        "id": "bg0EKLropk58"
      },
      "source": [
        "df.rating = df.rating.apply(pd.to_numeric, errors='coerce')"
      ],
      "execution_count": null,
      "outputs": []
    },
    {
      "cell_type": "code",
      "metadata": {
        "id": "FdzlVeP9sWg4"
      },
      "source": [
        "df = df.dropna()"
      ],
      "execution_count": null,
      "outputs": []
    },
    {
      "cell_type": "code",
      "metadata": {
        "colab": {
          "base_uri": "https://localhost:8080/",
          "height": 402
        },
        "id": "WE3T_8RWuSxV",
        "outputId": "a9b00e7a-c839-4ad9-c5dd-e47041f5d7ba"
      },
      "source": [
        "df = df.reset_index(drop=True)\n",
        "df"
      ],
      "execution_count": null,
      "outputs": [
        {
          "output_type": "execute_result",
          "data": {
            "text/html": [
              "<div>\n",
              "<style scoped>\n",
              "    .dataframe tbody tr th:only-of-type {\n",
              "        vertical-align: middle;\n",
              "    }\n",
              "\n",
              "    .dataframe tbody tr th {\n",
              "        vertical-align: top;\n",
              "    }\n",
              "\n",
              "    .dataframe thead th {\n",
              "        text-align: right;\n",
              "    }\n",
              "</style>\n",
              "<table border=\"1\" class=\"dataframe\">\n",
              "  <thead>\n",
              "    <tr style=\"text-align: right;\">\n",
              "      <th></th>\n",
              "      <th>Trait</th>\n",
              "      <th>rating</th>\n",
              "    </tr>\n",
              "  </thead>\n",
              "  <tbody>\n",
              "    <tr>\n",
              "      <th>0</th>\n",
              "      <td>masculine (not feminine)</td>\n",
              "      <td>97.5</td>\n",
              "    </tr>\n",
              "    <tr>\n",
              "      <th>1</th>\n",
              "      <td>motivated (not unmotivated)</td>\n",
              "      <td>95.8</td>\n",
              "    </tr>\n",
              "    <tr>\n",
              "      <th>2</th>\n",
              "      <td>devoted (not unfaithful)</td>\n",
              "      <td>94.9</td>\n",
              "    </tr>\n",
              "    <tr>\n",
              "      <th>3</th>\n",
              "      <td>fast (not slow)</td>\n",
              "      <td>94.7</td>\n",
              "    </tr>\n",
              "    <tr>\n",
              "      <th>4</th>\n",
              "      <td>family-first (not work-first)</td>\n",
              "      <td>94.0</td>\n",
              "    </tr>\n",
              "    <tr>\n",
              "      <th>...</th>\n",
              "      <td>...</td>\n",
              "      <td>...</td>\n",
              "    </tr>\n",
              "    <tr>\n",
              "      <th>3995</th>\n",
              "      <td>circular (not linear)</td>\n",
              "      <td>50.8</td>\n",
              "    </tr>\n",
              "    <tr>\n",
              "      <th>3996</th>\n",
              "      <td>boy/girl-next-door (not celebrity)</td>\n",
              "      <td>50.2</td>\n",
              "    </tr>\n",
              "    <tr>\n",
              "      <th>3997</th>\n",
              "      <td>practical (not imaginative)</td>\n",
              "      <td>50.3</td>\n",
              "    </tr>\n",
              "    <tr>\n",
              "      <th>3998</th>\n",
              "      <td>backdoor (not official)</td>\n",
              "      <td>50.3</td>\n",
              "    </tr>\n",
              "    <tr>\n",
              "      <th>3999</th>\n",
              "      <td>oxymoron (not tautology)</td>\n",
              "      <td>50.5</td>\n",
              "    </tr>\n",
              "  </tbody>\n",
              "</table>\n",
              "<p>4000 rows × 2 columns</p>\n",
              "</div>"
            ],
            "text/plain": [
              "                                   Trait  rating\n",
              "0               masculine (not feminine)    97.5\n",
              "1            motivated (not unmotivated)    95.8\n",
              "2               devoted (not unfaithful)    94.9\n",
              "3                        fast (not slow)    94.7\n",
              "4          family-first (not work-first)    94.0\n",
              "...                                  ...     ...\n",
              "3995               circular (not linear)    50.8\n",
              "3996  boy/girl-next-door (not celebrity)    50.2\n",
              "3997         practical (not imaginative)    50.3\n",
              "3998             backdoor (not official)    50.3\n",
              "3999            oxymoron (not tautology)    50.5\n",
              "\n",
              "[4000 rows x 2 columns]"
            ]
          },
          "metadata": {
            "tags": []
          },
          "execution_count": 9
        }
      ]
    },
    {
      "cell_type": "code",
      "metadata": {
        "colab": {
          "base_uri": "https://localhost:8080/",
          "height": 402
        },
        "id": "k4RL0sZMzarC",
        "outputId": "4e536455-1a17-4a1e-a847-9519a0d272a5"
      },
      "source": [
        "df = df[df['rating']>=85]\n",
        "df = df.reset_index(drop = True)\n",
        "df"
      ],
      "execution_count": null,
      "outputs": [
        {
          "output_type": "execute_result",
          "data": {
            "text/html": [
              "<div>\n",
              "<style scoped>\n",
              "    .dataframe tbody tr th:only-of-type {\n",
              "        vertical-align: middle;\n",
              "    }\n",
              "\n",
              "    .dataframe tbody tr th {\n",
              "        vertical-align: top;\n",
              "    }\n",
              "\n",
              "    .dataframe thead th {\n",
              "        text-align: right;\n",
              "    }\n",
              "</style>\n",
              "<table border=\"1\" class=\"dataframe\">\n",
              "  <thead>\n",
              "    <tr style=\"text-align: right;\">\n",
              "      <th></th>\n",
              "      <th>Trait</th>\n",
              "      <th>rating</th>\n",
              "    </tr>\n",
              "  </thead>\n",
              "  <tbody>\n",
              "    <tr>\n",
              "      <th>0</th>\n",
              "      <td>masculine (not feminine)</td>\n",
              "      <td>97.5</td>\n",
              "    </tr>\n",
              "    <tr>\n",
              "      <th>1</th>\n",
              "      <td>motivated (not unmotivated)</td>\n",
              "      <td>95.8</td>\n",
              "    </tr>\n",
              "    <tr>\n",
              "      <th>2</th>\n",
              "      <td>devoted (not unfaithful)</td>\n",
              "      <td>94.9</td>\n",
              "    </tr>\n",
              "    <tr>\n",
              "      <th>3</th>\n",
              "      <td>fast (not slow)</td>\n",
              "      <td>94.7</td>\n",
              "    </tr>\n",
              "    <tr>\n",
              "      <th>4</th>\n",
              "      <td>family-first (not work-first)</td>\n",
              "      <td>94.0</td>\n",
              "    </tr>\n",
              "    <tr>\n",
              "      <th>...</th>\n",
              "      <td>...</td>\n",
              "      <td>...</td>\n",
              "    </tr>\n",
              "    <tr>\n",
              "      <th>544</th>\n",
              "      <td>charming (not awkward)</td>\n",
              "      <td>85.3</td>\n",
              "    </tr>\n",
              "    <tr>\n",
              "      <th>545</th>\n",
              "      <td>soulful (not soulless)</td>\n",
              "      <td>85.3</td>\n",
              "    </tr>\n",
              "    <tr>\n",
              "      <th>546</th>\n",
              "      <td>adventurous (not stick-in-the-mud)</td>\n",
              "      <td>85.2</td>\n",
              "    </tr>\n",
              "    <tr>\n",
              "      <th>547</th>\n",
              "      <td>generous (not stingy)</td>\n",
              "      <td>85.2</td>\n",
              "    </tr>\n",
              "    <tr>\n",
              "      <th>548</th>\n",
              "      <td>🧢 (not 🎩)</td>\n",
              "      <td>85.1</td>\n",
              "    </tr>\n",
              "  </tbody>\n",
              "</table>\n",
              "<p>549 rows × 2 columns</p>\n",
              "</div>"
            ],
            "text/plain": [
              "                                  Trait  rating\n",
              "0              masculine (not feminine)    97.5\n",
              "1           motivated (not unmotivated)    95.8\n",
              "2              devoted (not unfaithful)    94.9\n",
              "3                       fast (not slow)    94.7\n",
              "4         family-first (not work-first)    94.0\n",
              "..                                  ...     ...\n",
              "544              charming (not awkward)    85.3\n",
              "545              soulful (not soulless)    85.3\n",
              "546  adventurous (not stick-in-the-mud)    85.2\n",
              "547               generous (not stingy)    85.2\n",
              "548                           🧢 (not 🎩)    85.1\n",
              "\n",
              "[549 rows x 2 columns]"
            ]
          },
          "metadata": {
            "tags": []
          },
          "execution_count": 10
        }
      ]
    },
    {
      "cell_type": "code",
      "metadata": {
        "colab": {
          "base_uri": "https://localhost:8080/",
          "height": 402
        },
        "id": "tDihN-Fx0fAd",
        "outputId": "16143f93-7e71-408e-e78a-7d35bf30f72c"
      },
      "source": [
        "df['freq']=df.groupby(by='Trait')['Trait'].transform('count')\n",
        "df = df.sort_values(by =['freq','rating'], ascending = (0,0))\n",
        "df.drop_duplicates(subset =\"Trait\",keep ='first', inplace = True)\n",
        "\n",
        "df = df.reset_index(drop=True)\n",
        "df"
      ],
      "execution_count": null,
      "outputs": [
        {
          "output_type": "execute_result",
          "data": {
            "text/html": [
              "<div>\n",
              "<style scoped>\n",
              "    .dataframe tbody tr th:only-of-type {\n",
              "        vertical-align: middle;\n",
              "    }\n",
              "\n",
              "    .dataframe tbody tr th {\n",
              "        vertical-align: top;\n",
              "    }\n",
              "\n",
              "    .dataframe thead th {\n",
              "        text-align: right;\n",
              "    }\n",
              "</style>\n",
              "<table border=\"1\" class=\"dataframe\">\n",
              "  <thead>\n",
              "    <tr style=\"text-align: right;\">\n",
              "      <th></th>\n",
              "      <th>Trait</th>\n",
              "      <th>rating</th>\n",
              "      <th>freq</th>\n",
              "    </tr>\n",
              "  </thead>\n",
              "  <tbody>\n",
              "    <tr>\n",
              "      <th>0</th>\n",
              "      <td>important (not irrelevant)</td>\n",
              "      <td>93.5</td>\n",
              "      <td>9</td>\n",
              "    </tr>\n",
              "    <tr>\n",
              "      <th>1</th>\n",
              "      <td>bold (not shy)</td>\n",
              "      <td>96.1</td>\n",
              "      <td>8</td>\n",
              "    </tr>\n",
              "    <tr>\n",
              "      <th>2</th>\n",
              "      <td>rebellious (not obedient)</td>\n",
              "      <td>96.6</td>\n",
              "      <td>7</td>\n",
              "    </tr>\n",
              "    <tr>\n",
              "      <th>3</th>\n",
              "      <td>badass (not weakass)</td>\n",
              "      <td>94.0</td>\n",
              "      <td>7</td>\n",
              "    </tr>\n",
              "    <tr>\n",
              "      <th>4</th>\n",
              "      <td>persistent (not quitter)</td>\n",
              "      <td>93.4</td>\n",
              "      <td>7</td>\n",
              "    </tr>\n",
              "    <tr>\n",
              "      <th>...</th>\n",
              "      <td>...</td>\n",
              "      <td>...</td>\n",
              "      <td>...</td>\n",
              "    </tr>\n",
              "    <tr>\n",
              "      <th>255</th>\n",
              "      <td>sweet (not bitter)</td>\n",
              "      <td>85.1</td>\n",
              "      <td>1</td>\n",
              "    </tr>\n",
              "    <tr>\n",
              "      <th>256</th>\n",
              "      <td>exhibitionist (not bashful)</td>\n",
              "      <td>85.1</td>\n",
              "      <td>1</td>\n",
              "    </tr>\n",
              "    <tr>\n",
              "      <th>257</th>\n",
              "      <td>🧢 (not 🎩)</td>\n",
              "      <td>85.1</td>\n",
              "      <td>1</td>\n",
              "    </tr>\n",
              "    <tr>\n",
              "      <th>258</th>\n",
              "      <td>summer (not winter)</td>\n",
              "      <td>85.0</td>\n",
              "      <td>1</td>\n",
              "    </tr>\n",
              "    <tr>\n",
              "      <th>259</th>\n",
              "      <td>anarchist (not statist)</td>\n",
              "      <td>85.0</td>\n",
              "      <td>1</td>\n",
              "    </tr>\n",
              "  </tbody>\n",
              "</table>\n",
              "<p>260 rows × 3 columns</p>\n",
              "</div>"
            ],
            "text/plain": [
              "                           Trait  rating  freq\n",
              "0     important (not irrelevant)    93.5     9\n",
              "1                 bold (not shy)    96.1     8\n",
              "2      rebellious (not obedient)    96.6     7\n",
              "3           badass (not weakass)    94.0     7\n",
              "4       persistent (not quitter)    93.4     7\n",
              "..                           ...     ...   ...\n",
              "255           sweet (not bitter)    85.1     1\n",
              "256  exhibitionist (not bashful)    85.1     1\n",
              "257                    🧢 (not 🎩)    85.1     1\n",
              "258          summer (not winter)    85.0     1\n",
              "259      anarchist (not statist)    85.0     1\n",
              "\n",
              "[260 rows x 3 columns]"
            ]
          },
          "metadata": {
            "tags": []
          },
          "execution_count": 11
        }
      ]
    },
    {
      "cell_type": "code",
      "metadata": {
        "colab": {
          "base_uri": "https://localhost:8080/",
          "height": 343
        },
        "id": "VpFoaIUz9nh6",
        "outputId": "85c83f17-5ab5-46dc-f797-040abdd9962b"
      },
      "source": [
        "want = df.iloc[:10,:]\n",
        "want"
      ],
      "execution_count": null,
      "outputs": [
        {
          "output_type": "execute_result",
          "data": {
            "text/html": [
              "<div>\n",
              "<style scoped>\n",
              "    .dataframe tbody tr th:only-of-type {\n",
              "        vertical-align: middle;\n",
              "    }\n",
              "\n",
              "    .dataframe tbody tr th {\n",
              "        vertical-align: top;\n",
              "    }\n",
              "\n",
              "    .dataframe thead th {\n",
              "        text-align: right;\n",
              "    }\n",
              "</style>\n",
              "<table border=\"1\" class=\"dataframe\">\n",
              "  <thead>\n",
              "    <tr style=\"text-align: right;\">\n",
              "      <th></th>\n",
              "      <th>Trait</th>\n",
              "      <th>rating</th>\n",
              "      <th>freq</th>\n",
              "    </tr>\n",
              "  </thead>\n",
              "  <tbody>\n",
              "    <tr>\n",
              "      <th>0</th>\n",
              "      <td>important (not irrelevant)</td>\n",
              "      <td>93.5</td>\n",
              "      <td>9</td>\n",
              "    </tr>\n",
              "    <tr>\n",
              "      <th>1</th>\n",
              "      <td>bold (not shy)</td>\n",
              "      <td>96.1</td>\n",
              "      <td>8</td>\n",
              "    </tr>\n",
              "    <tr>\n",
              "      <th>2</th>\n",
              "      <td>rebellious (not obedient)</td>\n",
              "      <td>96.6</td>\n",
              "      <td>7</td>\n",
              "    </tr>\n",
              "    <tr>\n",
              "      <th>3</th>\n",
              "      <td>badass (not weakass)</td>\n",
              "      <td>94.0</td>\n",
              "      <td>7</td>\n",
              "    </tr>\n",
              "    <tr>\n",
              "      <th>4</th>\n",
              "      <td>persistent (not quitter)</td>\n",
              "      <td>93.4</td>\n",
              "      <td>7</td>\n",
              "    </tr>\n",
              "    <tr>\n",
              "      <th>5</th>\n",
              "      <td>adventurous (not stick-in-the-mud)</td>\n",
              "      <td>96.6</td>\n",
              "      <td>6</td>\n",
              "    </tr>\n",
              "    <tr>\n",
              "      <th>6</th>\n",
              "      <td>funny (not humorless)</td>\n",
              "      <td>95.8</td>\n",
              "      <td>6</td>\n",
              "    </tr>\n",
              "    <tr>\n",
              "      <th>7</th>\n",
              "      <td>fast (not slow)</td>\n",
              "      <td>94.7</td>\n",
              "      <td>6</td>\n",
              "    </tr>\n",
              "    <tr>\n",
              "      <th>8</th>\n",
              "      <td>pro (not noob)</td>\n",
              "      <td>93.6</td>\n",
              "      <td>6</td>\n",
              "    </tr>\n",
              "    <tr>\n",
              "      <th>9</th>\n",
              "      <td>playful (not shy)</td>\n",
              "      <td>96.1</td>\n",
              "      <td>5</td>\n",
              "    </tr>\n",
              "  </tbody>\n",
              "</table>\n",
              "</div>"
            ],
            "text/plain": [
              "                                Trait  rating  freq\n",
              "0          important (not irrelevant)    93.5     9\n",
              "1                      bold (not shy)    96.1     8\n",
              "2           rebellious (not obedient)    96.6     7\n",
              "3                badass (not weakass)    94.0     7\n",
              "4            persistent (not quitter)    93.4     7\n",
              "5  adventurous (not stick-in-the-mud)    96.6     6\n",
              "6               funny (not humorless)    95.8     6\n",
              "7                     fast (not slow)    94.7     6\n",
              "8                      pro (not noob)    93.6     6\n",
              "9                   playful (not shy)    96.1     5"
            ]
          },
          "metadata": {
            "tags": []
          },
          "execution_count": 14
        }
      ]
    },
    {
      "cell_type": "code",
      "metadata": {
        "id": "RlrS3RiL35Ak"
      },
      "source": [
        ""
      ],
      "execution_count": null,
      "outputs": []
    },
    {
      "cell_type": "code",
      "metadata": {
        "id": "x9fKl4wK8q5F"
      },
      "source": [
        ""
      ],
      "execution_count": null,
      "outputs": []
    }
  ]
}